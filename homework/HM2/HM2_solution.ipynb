{
 "cells": [
  {
   "cell_type": "markdown",
   "metadata": {},
   "source": [
    "# HM2: Numerical Optimization for Logistic Regression.\n",
    "\n",
    "### Name: Vivek Gupta\n"
   ]
  },
  {
   "cell_type": "markdown",
   "metadata": {},
   "source": [
    "## 0. You will do the following:\n",
    "\n",
    "1. Read the lecture note: [click here](https://github.com/wangshusen/DeepLearning/blob/master/LectureNotes/Logistic/paper/logistic.pdf)\n",
    "\n",
    "2. Read, complete, and run my code.\n",
    "\n",
    "3. **Implement mini-batch SGD** and evaluate the performance.\n",
    "\n",
    "4. Convert the .IPYNB file to .HTML file.\n",
    "\n",
    "    * The HTML file must contain **the code** and **the output after execution**.\n",
    "    \n",
    "    * Missing **the output after execution** will not be graded.\n",
    "    \n",
    "5. Upload this .HTML file to your Google Drive, Dropbox, or your Github repo.  (If you submit the file to Google Drive or Dropbox, you must make the file \"open-access\". The delay caused by \"deny of access\" may result in late penalty.)\n",
    "\n",
    "6. Submit the link to this .HTML file to Canvas.\n",
    "\n",
    "    * Example: https://github.com/wangshusen/CS583-2020S/blob/master/homework/HM2/HM2.html\n",
    "\n",
    "\n",
    "## Grading criteria:\n",
    "\n",
    "1. When computing the ```gradient``` and ```objective function value``` using a batch of samples, use **matrix-vector multiplication** rather than a FOR LOOP of **vector-vector multiplications**.\n",
    "\n",
    "2. Plot ```objective function value``` against ```epochs```. In the plot, compare GD, SGD, and MB-SGD (with $b=8$ and $b=64$). The plot must look reasonable."
   ]
  },
  {
   "cell_type": "markdown",
   "metadata": {},
   "source": [
    "# 1. Data processing\n",
    "\n",
    "- Download the Diabete dataset from https://www.csie.ntu.edu.tw/~cjlin/libsvmtools/datasets/binary/diabetes\n",
    "- Load the data using sklearn.\n",
    "- Preprocess the data."
   ]
  },
  {
   "cell_type": "markdown",
   "metadata": {},
   "source": [
    "## 1.1. Load the data"
   ]
  },
  {
   "cell_type": "code",
   "execution_count": 1,
   "metadata": {},
   "outputs": [
    {
     "name": "stdout",
     "output_type": "stream",
     "text": [
      "Shape of x: (768, 8)\n",
      "Shape of y: (768,)\n"
     ]
    }
   ],
   "source": [
    "from sklearn import datasets\n",
    "import numpy\n",
    "\n",
    "x_sparse, y = datasets.load_svmlight_file('diabetes')\n",
    "x = x_sparse.todense()\n",
    "\n",
    "print('Shape of x: ' + str(x.shape))\n",
    "print('Shape of y: ' + str(y.shape))"
   ]
  },
  {
   "cell_type": "markdown",
   "metadata": {},
   "source": [
    "## 1.2. Partition to training and test sets"
   ]
  },
  {
   "cell_type": "code",
   "execution_count": 2,
   "metadata": {},
   "outputs": [
    {
     "name": "stdout",
     "output_type": "stream",
     "text": [
      "Shape of x_train: (640, 8)\n",
      "Shape of x_test: (128, 8)\n",
      "Shape of y_train: (640, 1)\n",
      "Shape of y_test: (128, 1)\n"
     ]
    }
   ],
   "source": [
    "# partition the data to training and test sets\n",
    "n = x.shape[0]\n",
    "n_train = 640\n",
    "n_test = n - n_train\n",
    "\n",
    "rand_indices = numpy.random.permutation(n)\n",
    "train_indices = rand_indices[0:n_train]\n",
    "test_indices = rand_indices[n_train:n]\n",
    "\n",
    "x_train = x[train_indices, :]\n",
    "x_test = x[test_indices, :]\n",
    "y_train = y[train_indices].reshape(n_train, 1)\n",
    "y_test = y[test_indices].reshape(n_test, 1)\n",
    "\n",
    "print('Shape of x_train: ' + str(x_train.shape))\n",
    "print('Shape of x_test: ' + str(x_test.shape))\n",
    "print('Shape of y_train: ' + str(y_train.shape))\n",
    "print('Shape of y_test: ' + str(y_test.shape))"
   ]
  },
  {
   "cell_type": "markdown",
   "metadata": {},
   "source": [
    "## 1.3. Feature scaling"
   ]
  },
  {
   "cell_type": "markdown",
   "metadata": {},
   "source": [
    "Use the standardization to trainsform both training and test features"
   ]
  },
  {
   "cell_type": "code",
   "execution_count": 3,
   "metadata": {},
   "outputs": [
    {
     "name": "stdout",
     "output_type": "stream",
     "text": [
      "test mean = \n",
      "[[ 0.12119465 -0.12147522 -0.09482972  0.08344122  0.24990793  0.0348497\n",
      "  -0.00806198 -0.07339132]]\n",
      "test std = \n",
      "[[1.21852695 0.94224975 0.97020855 1.0205081  1.39152442 0.98688641\n",
      "  1.03284792 0.94275082]]\n"
     ]
    }
   ],
   "source": [
    "# Standardization\n",
    "import numpy\n",
    "\n",
    "# calculate mu and sig using the training set\n",
    "d = x_train.shape[1]\n",
    "mu = numpy.mean(x_train, axis=0).reshape(1, d)\n",
    "sig = numpy.std(x_train, axis=0).reshape(1, d)\n",
    "\n",
    "# transform the training features\n",
    "x_train = (x_train - mu) / (sig + 1E-6)\n",
    "\n",
    "# transform the test features\n",
    "x_test = (x_test - mu) / (sig + 1E-6)\n",
    "\n",
    "print('test mean = ')\n",
    "print(numpy.mean(x_test, axis=0))\n",
    "\n",
    "print('test std = ')\n",
    "print(numpy.std(x_test, axis=0))"
   ]
  },
  {
   "cell_type": "markdown",
   "metadata": {},
   "source": [
    "## 1.4. Add a dimension of all ones"
   ]
  },
  {
   "cell_type": "code",
   "execution_count": 4,
   "metadata": {},
   "outputs": [
    {
     "name": "stdout",
     "output_type": "stream",
     "text": [
      "Shape of x_train: (640, 9)\n",
      "Shape of x_test: (128, 9)\n"
     ]
    }
   ],
   "source": [
    "n_train, d = x_train.shape\n",
    "x_train = numpy.concatenate((x_train, numpy.ones((n_train, 1))), axis=1)\n",
    "\n",
    "n_test, d = x_test.shape\n",
    "x_test = numpy.concatenate((x_test, numpy.ones((n_test, 1))), axis=1)\n",
    "\n",
    "print('Shape of x_train: ' + str(x_train.shape))\n",
    "print('Shape of x_test: ' + str(x_test.shape))"
   ]
  },
  {
   "cell_type": "markdown",
   "metadata": {},
   "source": [
    "# 2. Logistic regression model\n",
    "\n",
    "The objective function is $Q (w; X, y) = \\frac{1}{n} \\sum_{i=1}^n \\log \\Big( 1 + \\exp \\big( - y_i x_i^T w \\big) \\Big) + \\frac{\\lambda}{2} \\| w \\|_2^2 $."
   ]
  },
  {
   "cell_type": "code",
   "execution_count": 5,
   "metadata": {},
   "outputs": [],
   "source": [
    "# Calculate the objective function value\n",
    "# Inputs:\n",
    "#     w: d-by-1 matrix\n",
    "#     x: n-by-d matrix\n",
    "#     y: n-by-1 matrix\n",
    "#     lam: scalar, the regularization parameter\n",
    "# Return:\n",
    "#     objective function value (scalar)\n",
    "def objective(w, x, y, lam):\n",
    "    n, d = x.shape\n",
    "    yx = numpy.multiply(y, x) # n-by-d matrix\n",
    "    yxw = numpy.dot(yx, w) # n-by-1 matrix\n",
    "    vec1 = numpy.exp(-yxw) # n-by-1 matrix\n",
    "    vec2 = numpy.log(1 + vec1) # n-by-1 matrix\n",
    "    loss = numpy.mean(vec2) # scalar\n",
    "    reg = lam / 2 * numpy.sum(w * w) # scalar\n",
    "    return loss + reg"
   ]
  },
  {
   "cell_type": "code",
   "execution_count": 6,
   "metadata": {},
   "outputs": [
    {
     "name": "stdout",
     "output_type": "stream",
     "text": [
      "Initial objective function value = 0.6931471805599453\n"
     ]
    }
   ],
   "source": [
    "# initialize w\n",
    "d = x_train.shape[1]\n",
    "w = numpy.zeros((d, 1))\n",
    "\n",
    "# evaluate the objective function value at w\n",
    "lam = 1E-6\n",
    "objval0 = objective(w, x_train, y_train, lam)\n",
    "print('Initial objective function value = ' + str(objval0))"
   ]
  },
  {
   "cell_type": "markdown",
   "metadata": {},
   "source": [
    "# 3. Numerical optimization"
   ]
  },
  {
   "cell_type": "markdown",
   "metadata": {},
   "source": [
    "## 3.1. Gradient descent\n"
   ]
  },
  {
   "cell_type": "markdown",
   "metadata": {},
   "source": [
    "The gradient at $w$ is $g = - \\frac{1}{n} \\sum_{i=1}^n \\frac{y_i x_i }{1 + \\exp ( y_i x_i^T w)} + \\lambda w$"
   ]
  },
  {
   "cell_type": "code",
   "execution_count": 7,
   "metadata": {},
   "outputs": [],
   "source": [
    "# Calculate the gradient\n",
    "# Inputs:\n",
    "#     w: d-by-1 matrix\n",
    "#     x: n-by-d matrix\n",
    "#     y: n-by-1 matrix\n",
    "#     lam: scalar, the regularization parameter\n",
    "# Return:\n",
    "#     g: g: d-by-1 matrix, full gradient\n",
    "def gradient(w, x, y, lam):\n",
    "    n, d = x.shape\n",
    "    yx = numpy.multiply(y, x) # n-by-d matrix\n",
    "    yxw = numpy.dot(yx, w) # n-by-1 matrix\n",
    "    vec1 = numpy.exp(yxw) # n-by-1 matrix\n",
    "    vec2 = numpy.divide(yx, 1+vec1) # n-by-d matrix\n",
    "    vec3 = -numpy.mean(vec2, axis=0).reshape(d, 1) # d-by-1 matrix\n",
    "    g = vec3 + lam * w\n",
    "    return g"
   ]
  },
  {
   "cell_type": "code",
   "execution_count": 8,
   "metadata": {},
   "outputs": [],
   "source": [
    "# Gradient descent for solving logistic regression\n",
    "# Inputs:\n",
    "#     x: n-by-d matrix\n",
    "#     y: n-by-1 matrix\n",
    "#     lam: scalar, the regularization parameter\n",
    "#     stepsize: scalar\n",
    "#     max_iter: integer, the maximal iterations\n",
    "#     w: d-by-1 matrix, initialization of w\n",
    "# Return:\n",
    "#     w: d-by-1 matrix, the solution\n",
    "#     objvals: a record of each iteration's objective value\n",
    "def grad_descent(x, y, lam, stepsize, max_iter=100, w=None):\n",
    "    n, d = x.shape\n",
    "    objvals = numpy.zeros(max_iter) # store the objective values\n",
    "    if w is None:\n",
    "        w = numpy.zeros((d, 1)) # zero initialization\n",
    "    \n",
    "    for t in range(max_iter):\n",
    "        objval = objective(w, x, y, lam)\n",
    "        objvals[t] = objval\n",
    "        print('Objective value at t=' + str(t) + ' is ' + str(objval))\n",
    "        g = gradient(w, x, y, lam)\n",
    "        w -= stepsize * g\n",
    "    \n",
    "    return w, objvals"
   ]
  },
  {
   "cell_type": "markdown",
   "metadata": {},
   "source": [
    "Run gradient descent."
   ]
  },
  {
   "cell_type": "code",
   "execution_count": 9,
   "metadata": {},
   "outputs": [
    {
     "name": "stdout",
     "output_type": "stream",
     "text": [
      "Objective value at t=0 is 0.6931471805599453\n",
      "Objective value at t=1 is 0.5865652561533802\n",
      "Objective value at t=2 is 0.5443740919412662\n",
      "Objective value at t=3 is 0.5219834562586072\n",
      "Objective value at t=4 is 0.5081126529408855\n",
      "Objective value at t=5 is 0.49876362083550696\n",
      "Objective value at t=6 is 0.49213001642970056\n",
      "Objective value at t=7 is 0.4872587483882272\n",
      "Objective value at t=8 is 0.48359221340915864\n",
      "Objective value at t=9 is 0.480780095547017\n",
      "Objective value at t=10 is 0.4785908159337757\n",
      "Objective value at t=11 is 0.47686539981192033\n",
      "Objective value at t=12 is 0.47549149511707167\n",
      "Objective value at t=13 is 0.47438783588880845\n",
      "Objective value at t=14 is 0.473494508158861\n",
      "Objective value at t=15 is 0.47276662246583856\n",
      "Objective value at t=16 is 0.47217007679848266\n",
      "Objective value at t=17 is 0.47167864894653666\n",
      "Objective value at t=18 is 0.47127195942416555\n",
      "Objective value at t=19 is 0.47093401862322454\n",
      "Objective value at t=20 is 0.470652174299978\n",
      "Objective value at t=21 is 0.4704163383964725\n",
      "Objective value at t=22 is 0.4702184119093109\n",
      "Objective value at t=23 is 0.47005185219614465\n",
      "Objective value at t=24 is 0.4699113440590905\n",
      "Objective value at t=25 is 0.46979254733579134\n",
      "Objective value at t=26 is 0.4696919015093288\n",
      "Objective value at t=27 is 0.469606473239933\n",
      "Objective value at t=28 is 0.4695338365074736\n",
      "Objective value at t=29 is 0.4694719777447263\n",
      "Objective value at t=30 is 0.4694192202757191\n",
      "Objective value at t=31 is 0.46937416377849656\n",
      "Objective value at t=32 is 0.4693356355222552\n",
      "Objective value at t=33 is 0.4693026508917668\n",
      "Objective value at t=34 is 0.46927438128171645\n",
      "Objective value at t=35 is 0.46925012787249437\n",
      "Objective value at t=36 is 0.46922930012436004\n",
      "Objective value at t=37 is 0.46921139807555606\n",
      "Objective value at t=38 is 0.46919599772127846\n",
      "Objective value at t=39 is 0.4691827388985917\n",
      "Objective value at t=40 is 0.46917131521784833\n",
      "Objective value at t=41 is 0.4691614656716837\n",
      "Objective value at t=42 is 0.4691529676239925\n",
      "Objective value at t=43 is 0.4691456309378109\n",
      "Objective value at t=44 is 0.4691392930460323\n",
      "Objective value at t=45 is 0.46913381480488003\n",
      "Objective value at t=46 is 0.46912907699899287\n",
      "Objective value at t=47 is 0.46912497739031067\n",
      "Objective value at t=48 is 0.46912142822186426\n",
      "Objective value at t=49 is 0.4691183541029449\n",
      "Objective value at t=50 is 0.4691156902146739\n",
      "Objective value at t=51 is 0.46911338078527315\n",
      "Objective value at t=52 is 0.4691113777927697\n",
      "Objective value at t=53 is 0.4691096398598246\n",
      "Objective value at t=54 is 0.46910813131111895\n",
      "Objective value at t=55 is 0.46910682136849086\n",
      "Objective value at t=56 is 0.4691056834629679\n",
      "Objective value at t=57 is 0.46910469464613375\n",
      "Objective value at t=58 is 0.46910383508601056\n",
      "Objective value at t=59 is 0.46910308763493763\n",
      "Objective value at t=60 is 0.4691024374588501\n",
      "Objective value at t=61 is 0.46910187171897916\n",
      "Objective value at t=62 is 0.4691013792983498\n",
      "Objective value at t=63 is 0.46910095056660234\n",
      "Objective value at t=64 is 0.469100577177627\n",
      "Objective value at t=65 is 0.469100251895317\n",
      "Objective value at t=66 is 0.46909996844344\n",
      "Objective value at t=67 is 0.4690997213762089\n",
      "Objective value at t=68 is 0.46909950596663735\n",
      "Objective value at t=69 is 0.46909931811017713\n",
      "Objective value at t=70 is 0.4690991542415067\n",
      "Objective value at t=71 is 0.46909901126263615\n",
      "Objective value at t=72 is 0.46909888648075904\n",
      "Objective value at t=73 is 0.469098777554506\n",
      "Objective value at t=74 is 0.46909868244744085\n",
      "Objective value at t=75 is 0.46909859938780757\n",
      "Objective value at t=76 is 0.4690985268336705\n",
      "Objective value at t=77 is 0.4690984634427157\n",
      "Objective value at t=78 is 0.4690984080460774\n",
      "Objective value at t=79 is 0.46909835962564483\n",
      "Objective value at t=80 is 0.46909831729438006\n",
      "Objective value at t=81 is 0.4690982802792405\n",
      "Objective value at t=82 is 0.46909824790635546\n",
      "Objective value at t=83 is 0.46909821958815634\n",
      "Objective value at t=84 is 0.4690981948121983\n",
      "Objective value at t=85 is 0.4690981731314469\n",
      "Objective value at t=86 is 0.46909815415583805\n",
      "Objective value at t=87 is 0.46909813754493873\n",
      "Objective value at t=88 is 0.4690981230015651\n",
      "Objective value at t=89 is 0.4690981102662301\n",
      "Objective value at t=90 is 0.46909809911231376\n",
      "Objective value at t=91 is 0.4690980893418571\n",
      "Objective value at t=92 is 0.4690980807819015\n",
      "Objective value at t=93 is 0.4690980732813012\n",
      "Objective value at t=94 is 0.46909806670794485\n",
      "Objective value at t=95 is 0.46909806094633666\n",
      "Objective value at t=96 is 0.4690980558954867\n",
      "Objective value at t=97 is 0.46909805146707234\n",
      "Objective value at t=98 is 0.4690980475838351\n",
      "Objective value at t=99 is 0.4690980441781824\n"
     ]
    }
   ],
   "source": [
    "lam = 1E-6\n",
    "stepsize = 1.0\n",
    "w, objvals_gd = grad_descent(x_train, y_train, lam, stepsize)"
   ]
  },
  {
   "cell_type": "markdown",
   "metadata": {},
   "source": [
    "## 3.2. Stochastic gradient descent (SGD)\n",
    "\n",
    "Define $Q_i (w) = \\log \\Big( 1 + \\exp \\big( - y_i x_i^T w \\big) \\Big) + \\frac{\\lambda}{2} \\| w \\|_2^2 $.\n",
    "\n",
    "The stochastic gradient at $w$ is $g_i = \\frac{\\partial Q_i }{ \\partial w} = -\\frac{y_i x_i }{1 + \\exp ( y_i x_i^T w)} + \\lambda w$."
   ]
  },
  {
   "cell_type": "code",
   "execution_count": 10,
   "metadata": {},
   "outputs": [],
   "source": [
    "# Calculate the objective Q_i and the gradient of Q_i\n",
    "# Inputs:\n",
    "#     w: d-by-1 matrix\n",
    "#     xi: 1-by-d matrix\n",
    "#     yi: scalar\n",
    "#     lam: scalar, the regularization parameter\n",
    "# Return:\n",
    "#     obj: scalar, the objective Q_i\n",
    "#     g: d-by-1 matrix, gradient of Q_i\n",
    "def stochastic_objective_gradient(w, xi, yi, lam):\n",
    "    d = xi.shape[0]\n",
    "    yx = yi * xi # 1-by-d matrix\n",
    "    yxw = float(numpy.dot(yx, w)) # scalar\n",
    "    \n",
    "    # calculate objective function Q_i\n",
    "    loss = numpy.log(1 + numpy.exp(-yxw)) # scalar\n",
    "    reg = lam / 2 * numpy.sum(w * w) # scalar\n",
    "    obj = loss + reg\n",
    "    \n",
    "    # calculate stochastic gradient\n",
    "    g_loss = -yx.T / (1 + numpy.exp(yxw)) # d-by-1 matrix\n",
    "    g = g_loss + lam * w # d-by-1 matrix\n",
    "    \n",
    "    return obj, g"
   ]
  },
  {
   "cell_type": "code",
   "execution_count": 11,
   "metadata": {},
   "outputs": [],
   "source": [
    "# SGD for solving logistic regression\n",
    "# Inputs:\n",
    "#     x: n-by-d matrix\n",
    "#     y: n-by-1 matrix\n",
    "#     lam: scalar, the regularization parameter\n",
    "#     stepsize: scalar\n",
    "#     max_epoch: integer, the maximal epochs\n",
    "#     w: d-by-1 matrix, initialization of w\n",
    "# Return:\n",
    "#     w: the solution\n",
    "#     objvals: record of each iteration's objective value\n",
    "def sgd(x, y, lam, stepsize, max_epoch=100, w=None):\n",
    "    n, d = x.shape\n",
    "    objvals = numpy.zeros(max_epoch) # store the objective values\n",
    "    if w is None:\n",
    "        w = numpy.zeros((d, 1)) # zero initialization\n",
    "    \n",
    "    for t in range(max_epoch):\n",
    "        # randomly shuffle the samples\n",
    "        rand_indices = numpy.random.permutation(n)\n",
    "        x_rand = x[rand_indices, :]\n",
    "        y_rand = y[rand_indices, :]\n",
    "        \n",
    "        objval = 0 # accumulate the objective values\n",
    "        for i in range(n):\n",
    "            xi = x_rand[i, :] # 1-by-d matrix\n",
    "            yi = float(y_rand[i, :]) # scalar\n",
    "            obj, g = stochastic_objective_gradient(w, xi, yi, lam)\n",
    "            objval += obj\n",
    "            w -= stepsize * g\n",
    "        \n",
    "        stepsize *= 0.9 # decrease step size\n",
    "        objval /= n\n",
    "        objvals[t] = objval\n",
    "        print('Objective value at epoch t=' + str(t) + ' is ' + str(objval))\n",
    "    \n",
    "    return w, objvals"
   ]
  },
  {
   "cell_type": "markdown",
   "metadata": {},
   "source": [
    "Run SGD."
   ]
  },
  {
   "cell_type": "code",
   "execution_count": 12,
   "metadata": {},
   "outputs": [
    {
     "name": "stdout",
     "output_type": "stream",
     "text": [
      "Objective value at epoch t=0 is 0.5153369296192298\n",
      "Objective value at epoch t=1 is 0.5168320392171399\n",
      "Objective value at epoch t=2 is 0.5037899610175551\n",
      "Objective value at epoch t=3 is 0.5026569106045661\n",
      "Objective value at epoch t=4 is 0.5036955206584983\n",
      "Objective value at epoch t=5 is 0.49985898401466267\n",
      "Objective value at epoch t=6 is 0.49242873546684623\n",
      "Objective value at epoch t=7 is 0.48622332821612535\n",
      "Objective value at epoch t=8 is 0.4927342157640592\n",
      "Objective value at epoch t=9 is 0.4862775097759292\n",
      "Objective value at epoch t=10 is 0.49041582124913174\n",
      "Objective value at epoch t=11 is 0.48527318675927267\n",
      "Objective value at epoch t=12 is 0.48433437623252323\n",
      "Objective value at epoch t=13 is 0.4819671001476988\n",
      "Objective value at epoch t=14 is 0.48186898070401335\n",
      "Objective value at epoch t=15 is 0.47964937298073673\n",
      "Objective value at epoch t=16 is 0.4811225666133671\n",
      "Objective value at epoch t=17 is 0.47795657260437946\n",
      "Objective value at epoch t=18 is 0.4780020142518967\n",
      "Objective value at epoch t=19 is 0.4771513649165403\n",
      "Objective value at epoch t=20 is 0.4768922285258168\n",
      "Objective value at epoch t=21 is 0.47547636678684135\n",
      "Objective value at epoch t=22 is 0.4746570586959945\n",
      "Objective value at epoch t=23 is 0.47457009995863936\n",
      "Objective value at epoch t=24 is 0.4736839060215957\n",
      "Objective value at epoch t=25 is 0.4735893322796746\n",
      "Objective value at epoch t=26 is 0.4733979595573251\n",
      "Objective value at epoch t=27 is 0.47276468880706213\n",
      "Objective value at epoch t=28 is 0.47246112410982305\n",
      "Objective value at epoch t=29 is 0.4721646206778112\n",
      "Objective value at epoch t=30 is 0.4719214762217853\n",
      "Objective value at epoch t=31 is 0.47163110269565467\n",
      "Objective value at epoch t=32 is 0.4712791361759866\n",
      "Objective value at epoch t=33 is 0.47116096398903445\n",
      "Objective value at epoch t=34 is 0.47093220486402554\n",
      "Objective value at epoch t=35 is 0.4707392586739926\n",
      "Objective value at epoch t=36 is 0.47055992280407405\n",
      "Objective value at epoch t=37 is 0.4703904730584859\n",
      "Objective value at epoch t=38 is 0.4702865165517077\n",
      "Objective value at epoch t=39 is 0.4702009315842958\n",
      "Objective value at epoch t=40 is 0.4700749585591805\n",
      "Objective value at epoch t=41 is 0.46999385378731606\n",
      "Objective value at epoch t=42 is 0.4698963468487289\n",
      "Objective value at epoch t=43 is 0.46982078865669685\n",
      "Objective value at epoch t=44 is 0.4697497648956813\n",
      "Objective value at epoch t=45 is 0.4696873483986449\n",
      "Objective value at epoch t=46 is 0.46962807514809135\n",
      "Objective value at epoch t=47 is 0.4695751962759601\n",
      "Objective value at epoch t=48 is 0.4695308961617649\n",
      "Objective value at epoch t=49 is 0.46948348474956436\n",
      "Objective value at epoch t=50 is 0.46944802926523205\n",
      "Objective value at epoch t=51 is 0.469413377114555\n",
      "Objective value at epoch t=52 is 0.4693816590065728\n",
      "Objective value at epoch t=53 is 0.46935419807795914\n",
      "Objective value at epoch t=54 is 0.4693279044291339\n",
      "Objective value at epoch t=55 is 0.4693048900963638\n",
      "Objective value at epoch t=56 is 0.46928460016444734\n",
      "Objective value at epoch t=57 is 0.46926668712156144\n",
      "Objective value at epoch t=58 is 0.4692493375486332\n",
      "Objective value at epoch t=59 is 0.4692344188759674\n",
      "Objective value at epoch t=60 is 0.46922107719609335\n",
      "Objective value at epoch t=61 is 0.4692086337695877\n",
      "Objective value at epoch t=62 is 0.4691976093766209\n",
      "Objective value at epoch t=63 is 0.46918767443150233\n",
      "Objective value at epoch t=64 is 0.4691788340577948\n",
      "Objective value at epoch t=65 is 0.4691707906630139\n",
      "Objective value at epoch t=66 is 0.4691635018699262\n",
      "Objective value at epoch t=67 is 0.46915702451908076\n",
      "Objective value at epoch t=68 is 0.4691511502035435\n",
      "Objective value at epoch t=69 is 0.46914588655739\n",
      "Objective value at epoch t=70 is 0.4691410193300724\n",
      "Objective value at epoch t=71 is 0.46913682832819903\n",
      "Objective value at epoch t=72 is 0.4691329633964771\n",
      "Objective value at epoch t=73 is 0.46912948629941037\n",
      "Objective value at epoch t=74 is 0.46912637471946816\n",
      "Objective value at epoch t=75 is 0.4691235580015939\n",
      "Objective value at epoch t=76 is 0.4691210249033544\n",
      "Objective value at epoch t=77 is 0.4691187417750111\n",
      "Objective value at epoch t=78 is 0.46911669302762526\n",
      "Objective value at epoch t=79 is 0.46911485458057606\n",
      "Objective value at epoch t=80 is 0.4691131910253488\n",
      "Objective value at epoch t=81 is 0.46911169181223056\n",
      "Objective value at epoch t=82 is 0.46911035296340253\n",
      "Objective value at epoch t=83 is 0.46910914093480843\n",
      "Objective value at epoch t=84 is 0.4691080491988099\n",
      "Objective value at epoch t=85 is 0.4691070701952613\n",
      "Objective value at epoch t=86 is 0.46910618631027096\n",
      "Objective value at epoch t=87 is 0.4691053918950609\n",
      "Objective value at epoch t=88 is 0.4691046769186961\n",
      "Objective value at epoch t=89 is 0.46910403202245393\n",
      "Objective value at epoch t=90 is 0.4691034534948063\n",
      "Objective value at epoch t=91 is 0.4691029322379537\n",
      "Objective value at epoch t=92 is 0.4691024623946657\n",
      "Objective value at epoch t=93 is 0.4691020402247424\n",
      "Objective value at epoch t=94 is 0.46910166001160725\n",
      "Objective value at epoch t=95 is 0.469101317897551\n",
      "Objective value at epoch t=96 is 0.46910100994769266\n",
      "Objective value at epoch t=97 is 0.46910073273409675\n",
      "Objective value at epoch t=98 is 0.469100483306739\n",
      "Objective value at epoch t=99 is 0.46910025877833544\n"
     ]
    }
   ],
   "source": [
    "lam = 1E-6\n",
    "stepsize = 0.1\n",
    "w, objvals_sgd = sgd(x_train, y_train, lam, stepsize)"
   ]
  },
  {
   "cell_type": "markdown",
   "metadata": {},
   "source": [
    "# 4. Compare GD with SGD\n",
    "\n",
    "Plot objective function values against epochs."
   ]
  },
  {
   "cell_type": "code",
   "execution_count": 13,
   "metadata": {},
   "outputs": [
    {
     "name": "stderr",
     "output_type": "stream",
     "text": [
      "<ipython-input-13-9b8d8f4cdfb5>:9: MatplotlibDeprecationWarning: Case-insensitive properties were deprecated in 3.3 and support will be removed two minor releases later\n",
      "  line0, = plt.plot(epochs_gd, objvals_gd, '--b', LineWidth=4)\n",
      "<ipython-input-13-9b8d8f4cdfb5>:10: MatplotlibDeprecationWarning: Case-insensitive properties were deprecated in 3.3 and support will be removed two minor releases later\n",
      "  line1, = plt.plot(epochs_sgd, objvals_sgd, '-r', LineWidth=2)\n",
      "<ipython-input-13-9b8d8f4cdfb5>:11: MatplotlibDeprecationWarning: Case-insensitive properties were deprecated in 3.3 and support will be removed two minor releases later\n",
      "  plt.xlabel('Epochs', FontSize=20)\n",
      "<ipython-input-13-9b8d8f4cdfb5>:12: MatplotlibDeprecationWarning: Case-insensitive properties were deprecated in 3.3 and support will be removed two minor releases later\n",
      "  plt.ylabel('Objective Value', FontSize=20)\n",
      "<ipython-input-13-9b8d8f4cdfb5>:13: MatplotlibDeprecationWarning: Case-insensitive properties were deprecated in 3.3 and support will be removed two minor releases later\n",
      "  plt.xticks(FontSize=16)\n",
      "<ipython-input-13-9b8d8f4cdfb5>:14: MatplotlibDeprecationWarning: Case-insensitive properties were deprecated in 3.3 and support will be removed two minor releases later\n",
      "  plt.yticks(FontSize=16)\n"
     ]
    },
    {
     "data": {
      "image/png": "[encoded data removed]",
      "text/plain": [
       "<Figure size 432x288 with 1 Axes>"
      ]
     },
     "metadata": {
      "needs_background": "light"
     },
     "output_type": "display_data"
    }
   ],
   "source": [
    "import matplotlib.pyplot as plt\n",
    "%matplotlib inline\n",
    "\n",
    "fig = plt.figure(figsize=(6, 4))\n",
    "\n",
    "epochs_gd = range(len(objvals_gd))\n",
    "epochs_sgd = range(len(objvals_sgd))\n",
    "\n",
    "line0, = plt.plot(epochs_gd, objvals_gd, '--b', LineWidth=4)\n",
    "line1, = plt.plot(epochs_sgd, objvals_sgd, '-r', LineWidth=2)\n",
    "plt.xlabel('Epochs', FontSize=20)\n",
    "plt.ylabel('Objective Value', FontSize=20)\n",
    "plt.xticks(FontSize=16)\n",
    "plt.yticks(FontSize=16)\n",
    "plt.legend([line0, line1], ['GD', 'SGD'], fontsize=20)\n",
    "plt.tight_layout()\n",
    "plt.show()\n",
    "fig.savefig('compare_gd_sgd.pdf', format='pdf', dpi=1200)"
   ]
  },
  {
   "cell_type": "markdown",
   "metadata": {},
   "source": [
    "# 5. Prediction"
   ]
  },
  {
   "cell_type": "code",
   "execution_count": 14,
   "metadata": {},
   "outputs": [],
   "source": [
    "# Predict class label\n",
    "# Inputs:\n",
    "#     w: d-by-1 matrix\n",
    "#     X: m-by-d matrix\n",
    "# Return:\n",
    "#     f: m-by-1 matrix, the predictions\n",
    "def predict(w, X):\n",
    "    xw = numpy.dot(X, w)\n",
    "    f = numpy.sign(xw)\n",
    "    return f"
   ]
  },
  {
   "cell_type": "code",
   "execution_count": 15,
   "metadata": {},
   "outputs": [
    {
     "name": "stdout",
     "output_type": "stream",
     "text": [
      "Training classification error is 0.2265625\n"
     ]
    }
   ],
   "source": [
    "# evaluate training error\n",
    "f_train = predict(w, x_train)\n",
    "diff = numpy.abs(f_train - y_train) / 2\n",
    "error_train = numpy.mean(diff)\n",
    "print('Training classification error is ' + str(error_train))"
   ]
  },
  {
   "cell_type": "code",
   "execution_count": 16,
   "metadata": {},
   "outputs": [
    {
     "name": "stdout",
     "output_type": "stream",
     "text": [
      "Test classification error is 0.2109375\n"
     ]
    }
   ],
   "source": [
    "# evaluate test error\n",
    "f_test = predict(w, x_test)\n",
    "diff = numpy.abs(f_test - y_test) / 2\n",
    "error_test = numpy.mean(diff)\n",
    "print('Test classification error is ' + str(error_test))"
   ]
  },
  {
   "cell_type": "markdown",
   "metadata": {},
   "source": [
    "# 6. Mini-batch SGD (fill the code)\n",
    "\n"
   ]
  },
  {
   "cell_type": "markdown",
   "metadata": {},
   "source": [
    "## 6.1. Compute the objective $Q_I$ and its gradient using a batch of samples\n",
    "\n",
    "Define $Q_I (w) = \\frac{1}{b} \\sum_{i \\in I} \\log \\Big( 1 + \\exp \\big( - y_i x_i^T w \\big) \\Big) + \\frac{\\lambda}{2} \\| w \\|_2^2 $, where $I$ is a set containing $b$ indices randomly drawn from $\\{ 1, \\cdots , n \\}$ without replacement.\n",
    "\n",
    "The stochastic gradient at $w$ is $g_I = \\frac{\\partial Q_I }{ \\partial w} = \\frac{1}{b} \\sum_{i \\in I} \\frac{- y_i x_i }{1 + \\exp ( y_i x_i^T w)} + \\lambda w$."
   ]
  },
  {
   "cell_type": "code",
   "execution_count": 17,
   "metadata": {},
   "outputs": [],
   "source": [
    "# Calculate the objective Q_I and the gradient of Q_I\n",
    "# Inputs:\n",
    "#     w: d-by-1 matrix\n",
    "#     xi: b-by-d matrix\n",
    "#     yi: b-by-1 matrix\n",
    "#     lam: scalar, the regularization parameter\n",
    "#     b: integer, the batch size\n",
    "# Return:\n",
    "#     obj: scalar, the objective Q_i\n",
    "#     g: d-by-1 matrix, gradient of Q_i\n",
    "def mb_stochastic_objective_gradient(w, xi, yi, lam, b):\n",
    "    # Fill the function\n",
    "    # Follow the implementation of stochastic_objective_gradient\n",
    "    # Use matrix-vector multiplication; do not use FOR LOOP of vector-vector multiplications\n",
    "    yx = numpy.multiply(yi, xi) # b-by-d matrix\n",
    "    yxw = numpy.dot(yx, w) # b-by-1 matrix\n",
    "    vec1 = numpy.exp(-yxw) # b-by-1 matrix\n",
    "    vec2 = numpy.log(1 + vec1) # b-by-1 matrix\n",
    "    \n",
    "    # calculate objective function Q_i\n",
    "    loss = numpy.mean(vec2) # scalar\n",
    "    reg = lam/2 * numpy.sum(w * w) # scalar\n",
    "    obj = loss + reg # scalar\n",
    "      \n",
    "    # calculate mini batch stochastic gradient\n",
    "    g_loss = (yx)/(1 + numpy.exp(yxw)) # b-by-d matrix\n",
    "    g_loss = -numpy.mean(g_loss, axis=0).reshape(d, 1) # d-by-1 matrix\n",
    "    g = g_loss + lam * w # d-by-1 matrix\n",
    "    \n",
    "    return obj, g"
   ]
  },
  {
   "cell_type": "markdown",
   "metadata": {},
   "source": [
    "## 6.2. Implement mini-batch SGD\n",
    "\n",
    "Hints:\n",
    "1. In every epoch, randomly permute the $n$ samples (just like SGD).\n",
    "2. Each epoch has $\\frac{n}{b}$ iterations. In every iteration, use $b$ samples, and compute the gradient and objective using the ``mb_stochastic_objective_gradient`` function. In the next iteration, use the next $b$ samples, and so on.\n"
   ]
  },
  {
   "cell_type": "code",
   "execution_count": 18,
   "metadata": {},
   "outputs": [],
   "source": [
    "# Mini-Batch SGD for solving logistic regression\n",
    "# Inputs:\n",
    "#     x: n-by-d matrix\n",
    "#     y: n-by-1 matrix\n",
    "#     lam: scalar, the regularization parameter\n",
    "#     b: integer, the batch size\n",
    "#     stepsize: scalar\n",
    "#     max_epoch: integer, the maximal epochs\n",
    "#     w: d-by-1 matrix, initialization of w\n",
    "# Return:\n",
    "#     w: the solution\n",
    "#     objvals: record of each iteration's objective value\n",
    "\n",
    "numpy.random.seed(1)\n",
    "\n",
    "def mb_sgd(x, y, lam, b, stepsize, max_epoch=100, w=None):\n",
    "    # Fill the function\n",
    "    # Follow the implementation of sgd\n",
    "    # Record one objective value per epoch (not per iteration!)\n",
    "    n, d = x.shape\n",
    "    num_batches = int(n/b)\n",
    "    objvals = numpy.zeros(max_epoch) # store the objective values\n",
    "    if w is None:\n",
    "        w = numpy.zeros((d, 1)) # zero initialization\n",
    "    \n",
    "    for t in range(max_epoch):\n",
    "        # randomly shuffle the samples\n",
    "        rand_indices = numpy.random.permutation(n)\n",
    "        x_rand = x[rand_indices, :]\n",
    "        y_rand = y[rand_indices, :]\n",
    "        \n",
    "        objval = numpy.zeros(num_batches)\n",
    "        for i in range(0, n, b):\n",
    "            xi = x_rand[i:i+b,:] # 1-by-d matrix\n",
    "            yi = y_rand[i:i+b,:] # 1-by-d matrix\n",
    "            obj, g = mb_stochastic_objective_gradient(w, xi, yi, lam, b)\n",
    "            objval[int(i/b)] = obj\n",
    "            w -= stepsize * g\n",
    "            \n",
    "        stepsize *= 0.9 # decrease step size\n",
    "        objval = numpy.mean(objval)\n",
    "        objvals[t] = objval\n",
    "        print('Objective value at epoch t=' + str(t) + ' is ' + str(objval))\n",
    "        \n",
    "    return w, objvals"
   ]
  },
  {
   "cell_type": "markdown",
   "metadata": {},
   "source": [
    "## 6.3. Run MB-SGD"
   ]
  },
  {
   "cell_type": "code",
   "execution_count": 19,
   "metadata": {
    "scrolled": false
   },
   "outputs": [
    {
     "name": "stdout",
     "output_type": "stream",
     "text": [
      "Objective value at epoch t=0 is 0.5406609445079331\n",
      "Objective value at epoch t=1 is 0.48400684460916654\n",
      "Objective value at epoch t=2 is 0.47795918373949464\n",
      "Objective value at epoch t=3 is 0.47461795385243805\n",
      "Objective value at epoch t=4 is 0.4747641953427205\n",
      "Objective value at epoch t=5 is 0.47390599782870313\n",
      "Objective value at epoch t=6 is 0.47317658595036705\n",
      "Objective value at epoch t=7 is 0.4730259657844007\n",
      "Objective value at epoch t=8 is 0.47269726844646753\n",
      "Objective value at epoch t=9 is 0.47202247332505476\n",
      "Objective value at epoch t=10 is 0.4720897657849806\n",
      "Objective value at epoch t=11 is 0.47167304124204323\n",
      "Objective value at epoch t=12 is 0.47107641885372364\n",
      "Objective value at epoch t=13 is 0.470977729433104\n",
      "Objective value at epoch t=14 is 0.47093211825643966\n",
      "Objective value at epoch t=15 is 0.47091160912132235\n",
      "Objective value at epoch t=16 is 0.47066015157300767\n",
      "Objective value at epoch t=17 is 0.4705276054429722\n",
      "Objective value at epoch t=18 is 0.47039869257585254\n",
      "Objective value at epoch t=19 is 0.4701922713568102\n",
      "Objective value at epoch t=20 is 0.4701698391611684\n",
      "Objective value at epoch t=21 is 0.4700566103395511\n",
      "Objective value at epoch t=22 is 0.4699515275733326\n",
      "Objective value at epoch t=23 is 0.4698929255284391\n",
      "Objective value at epoch t=24 is 0.46980334896279957\n",
      "Objective value at epoch t=25 is 0.46970795155692036\n",
      "Objective value at epoch t=26 is 0.4696264264094127\n",
      "Objective value at epoch t=27 is 0.4695430924701502\n",
      "Objective value at epoch t=28 is 0.46953023568881846\n",
      "Objective value at epoch t=29 is 0.46947925107328725\n",
      "Objective value at epoch t=30 is 0.4694384766450822\n",
      "Objective value at epoch t=31 is 0.4694318305319177\n",
      "Objective value at epoch t=32 is 0.4693628083312921\n",
      "Objective value at epoch t=33 is 0.46936631526991646\n",
      "Objective value at epoch t=34 is 0.46933192408289315\n",
      "Objective value at epoch t=35 is 0.46931903994831414\n",
      "Objective value at epoch t=36 is 0.4692919647415529\n",
      "Objective value at epoch t=37 is 0.4692726478682445\n",
      "Objective value at epoch t=38 is 0.46924045713388535\n",
      "Objective value at epoch t=39 is 0.46923917916857844\n",
      "Objective value at epoch t=40 is 0.4692296918551014\n",
      "Objective value at epoch t=41 is 0.4692170114607803\n",
      "Objective value at epoch t=42 is 0.4691946814749867\n",
      "Objective value at epoch t=43 is 0.4691939660359237\n",
      "Objective value at epoch t=44 is 0.4691735540932765\n",
      "Objective value at epoch t=45 is 0.46917440754853057\n",
      "Objective value at epoch t=46 is 0.46916821891017574\n",
      "Objective value at epoch t=47 is 0.4691548817628786\n",
      "Objective value at epoch t=48 is 0.46915764404913773\n",
      "Objective value at epoch t=49 is 0.46914348497335734\n",
      "Objective value at epoch t=50 is 0.4691422349638252\n",
      "Objective value at epoch t=51 is 0.46913872124915096\n",
      "Objective value at epoch t=52 is 0.4691333291090173\n",
      "Objective value at epoch t=53 is 0.469130646044571\n",
      "Objective value at epoch t=54 is 0.46912508782775797\n",
      "Objective value at epoch t=55 is 0.4691244495515588\n",
      "Objective value at epoch t=56 is 0.4691235132678635\n",
      "Objective value at epoch t=57 is 0.46912057070828617\n",
      "Objective value at epoch t=58 is 0.4691177016554997\n",
      "Objective value at epoch t=59 is 0.4691141404625968\n",
      "Objective value at epoch t=60 is 0.4691115448268871\n",
      "Objective value at epoch t=61 is 0.4691128236294196\n",
      "Objective value at epoch t=62 is 0.4691103035988684\n",
      "Objective value at epoch t=63 is 0.46910914412069005\n",
      "Objective value at epoch t=64 is 0.469109353660602\n",
      "Objective value at epoch t=65 is 0.46910753038731634\n",
      "Objective value at epoch t=66 is 0.46910669404065486\n",
      "Objective value at epoch t=67 is 0.4691063805476189\n",
      "Objective value at epoch t=68 is 0.46910567880865955\n",
      "Objective value at epoch t=69 is 0.4691044871319365\n",
      "Objective value at epoch t=70 is 0.46910394267732364\n",
      "Objective value at epoch t=71 is 0.469103667609413\n",
      "Objective value at epoch t=72 is 0.46910300459008686\n",
      "Objective value at epoch t=73 is 0.46910263843556343\n",
      "Objective value at epoch t=74 is 0.46910247619036316\n",
      "Objective value at epoch t=75 is 0.4691017596788683\n",
      "Objective value at epoch t=76 is 0.46910157490248955\n",
      "Objective value at epoch t=77 is 0.4691010541911595\n",
      "Objective value at epoch t=78 is 0.46910074750620356\n",
      "Objective value at epoch t=79 is 0.46910074182251343\n",
      "Objective value at epoch t=80 is 0.46910057565145785\n",
      "Objective value at epoch t=81 is 0.46910022976624466\n",
      "Objective value at epoch t=82 is 0.46909993598401806\n",
      "Objective value at epoch t=83 is 0.46909992310729376\n",
      "Objective value at epoch t=84 is 0.4690998895340847\n",
      "Objective value at epoch t=85 is 0.4690997166993361\n",
      "Objective value at epoch t=86 is 0.4690995913791019\n",
      "Objective value at epoch t=87 is 0.4690995861247499\n",
      "Objective value at epoch t=88 is 0.4690994360231072\n",
      "Objective value at epoch t=89 is 0.4690994055227587\n",
      "Objective value at epoch t=90 is 0.46909938492636655\n",
      "Objective value at epoch t=91 is 0.469099216378447\n",
      "Objective value at epoch t=92 is 0.4690991607573246\n",
      "Objective value at epoch t=93 is 0.469099158413969\n",
      "Objective value at epoch t=94 is 0.46909910324628024\n",
      "Objective value at epoch t=95 is 0.4690990819182332\n",
      "Objective value at epoch t=96 is 0.4690990340084614\n",
      "Objective value at epoch t=97 is 0.4690989936254457\n",
      "Objective value at epoch t=98 is 0.469098948130162\n",
      "Objective value at epoch t=99 is 0.4690989197523569\n"
     ]
    }
   ],
   "source": [
    "# MB-SGD with batch size b=8\n",
    "lam = 1E-6 # do not change\n",
    "b = 8 # do not change\n",
    "stepsize = 0.1 # you must tune this parameter\n",
    "\n",
    "w, objvals_mbsgd8 = mb_sgd(x_train, y_train, lam, b, stepsize)"
   ]
  },
  {
   "cell_type": "code",
   "execution_count": 20,
   "metadata": {},
   "outputs": [
    {
     "name": "stdout",
     "output_type": "stream",
     "text": [
      "Objective value at epoch t=0 is 0.5714872438922091\n",
      "Objective value at epoch t=1 is 0.4937277396702558\n",
      "Objective value at epoch t=2 is 0.48018824529121973\n",
      "Objective value at epoch t=3 is 0.47637987015341743\n",
      "Objective value at epoch t=4 is 0.4741710265839659\n",
      "Objective value at epoch t=5 is 0.472909718291885\n",
      "Objective value at epoch t=6 is 0.4724545263183546\n",
      "Objective value at epoch t=7 is 0.47146710203383274\n",
      "Objective value at epoch t=8 is 0.47151989746552425\n",
      "Objective value at epoch t=9 is 0.4711773937768194\n",
      "Objective value at epoch t=10 is 0.4713026344856712\n",
      "Objective value at epoch t=11 is 0.4709160031196376\n",
      "Objective value at epoch t=12 is 0.47082044449194393\n",
      "Objective value at epoch t=13 is 0.47053834085181323\n",
      "Objective value at epoch t=14 is 0.4702875318963658\n",
      "Objective value at epoch t=15 is 0.47013328987177677\n",
      "Objective value at epoch t=16 is 0.4698385450515283\n",
      "Objective value at epoch t=17 is 0.4699470163665511\n",
      "Objective value at epoch t=18 is 0.4697669178258274\n",
      "Objective value at epoch t=19 is 0.4697113645451646\n",
      "Objective value at epoch t=20 is 0.469867364890149\n",
      "Objective value at epoch t=21 is 0.46949993551038094\n",
      "Objective value at epoch t=22 is 0.4697057052886695\n",
      "Objective value at epoch t=23 is 0.4696694298062017\n",
      "Objective value at epoch t=24 is 0.4694601002301388\n",
      "Objective value at epoch t=25 is 0.4693833817665851\n",
      "Objective value at epoch t=26 is 0.4694892686877094\n",
      "Objective value at epoch t=27 is 0.46937116601813456\n",
      "Objective value at epoch t=28 is 0.46937278597978604\n",
      "Objective value at epoch t=29 is 0.4693723975760954\n",
      "Objective value at epoch t=30 is 0.46926150600889527\n",
      "Objective value at epoch t=31 is 0.4692908543192198\n",
      "Objective value at epoch t=32 is 0.4692965141050439\n",
      "Objective value at epoch t=33 is 0.4693022504188894\n",
      "Objective value at epoch t=34 is 0.46926883799009567\n",
      "Objective value at epoch t=35 is 0.46921274825975035\n",
      "Objective value at epoch t=36 is 0.4692283127256801\n",
      "Objective value at epoch t=37 is 0.46923340227144267\n",
      "Objective value at epoch t=38 is 0.4692327819645528\n",
      "Objective value at epoch t=39 is 0.46918643450367964\n",
      "Objective value at epoch t=40 is 0.4692194838381643\n",
      "Objective value at epoch t=41 is 0.46918155757824326\n",
      "Objective value at epoch t=42 is 0.4692019582613215\n",
      "Objective value at epoch t=43 is 0.46916502954616\n",
      "Objective value at epoch t=44 is 0.46917068370070664\n",
      "Objective value at epoch t=45 is 0.4691585252841177\n",
      "Objective value at epoch t=46 is 0.46916292862675163\n",
      "Objective value at epoch t=47 is 0.46915653520199924\n",
      "Objective value at epoch t=48 is 0.46914604218901595\n",
      "Objective value at epoch t=49 is 0.4691572847402129\n",
      "Objective value at epoch t=50 is 0.4691374473543101\n",
      "Objective value at epoch t=51 is 0.469132918059388\n",
      "Objective value at epoch t=52 is 0.46914108677628513\n",
      "Objective value at epoch t=53 is 0.4691395390362814\n",
      "Objective value at epoch t=54 is 0.4691331394804175\n",
      "Objective value at epoch t=55 is 0.46912920874782255\n",
      "Objective value at epoch t=56 is 0.4691351562053045\n",
      "Objective value at epoch t=57 is 0.4691285813524736\n",
      "Objective value at epoch t=58 is 0.4691305301522345\n",
      "Objective value at epoch t=59 is 0.46912588985691206\n",
      "Objective value at epoch t=60 is 0.4691295806434918\n",
      "Objective value at epoch t=61 is 0.4691257945875222\n",
      "Objective value at epoch t=62 is 0.46912570672566706\n",
      "Objective value at epoch t=63 is 0.46912296333799597\n",
      "Objective value at epoch t=64 is 0.469124861897518\n",
      "Objective value at epoch t=65 is 0.4691229513584503\n",
      "Objective value at epoch t=66 is 0.46912262450629283\n",
      "Objective value at epoch t=67 is 0.46912219693524565\n",
      "Objective value at epoch t=68 is 0.4691217805761941\n",
      "Objective value at epoch t=69 is 0.4691217858659139\n",
      "Objective value at epoch t=70 is 0.46912079265221596\n",
      "Objective value at epoch t=71 is 0.4691204063504627\n",
      "Objective value at epoch t=72 is 0.46912058756893493\n",
      "Objective value at epoch t=73 is 0.4691204252379226\n",
      "Objective value at epoch t=74 is 0.46911996413251444\n",
      "Objective value at epoch t=75 is 0.46912022196846825\n",
      "Objective value at epoch t=76 is 0.46911950990103585\n",
      "Objective value at epoch t=77 is 0.4691197005850423\n",
      "Objective value at epoch t=78 is 0.46911913705522884\n",
      "Objective value at epoch t=79 is 0.4691190486798787\n",
      "Objective value at epoch t=80 is 0.46911901641737286\n",
      "Objective value at epoch t=81 is 0.46911911544731594\n",
      "Objective value at epoch t=82 is 0.46911885138625503\n",
      "Objective value at epoch t=83 is 0.4691189082514601\n",
      "Objective value at epoch t=84 is 0.4691186593279662\n",
      "Objective value at epoch t=85 is 0.4691184873664228\n",
      "Objective value at epoch t=86 is 0.4691186373626288\n",
      "Objective value at epoch t=87 is 0.46911847565107206\n",
      "Objective value at epoch t=88 is 0.46911860597795013\n",
      "Objective value at epoch t=89 is 0.46911840159993146\n",
      "Objective value at epoch t=90 is 0.4691184650924871\n",
      "Objective value at epoch t=91 is 0.4691183436077779\n",
      "Objective value at epoch t=92 is 0.46911833435190414\n",
      "Objective value at epoch t=93 is 0.46911831585093877\n",
      "Objective value at epoch t=94 is 0.46911824200138785\n",
      "Objective value at epoch t=95 is 0.46911826233623427\n",
      "Objective value at epoch t=96 is 0.469118214285866\n",
      "Objective value at epoch t=97 is 0.46911818973489083\n",
      "Objective value at epoch t=98 is 0.469118099934599\n",
      "Objective value at epoch t=99 is 0.46911812733542246\n"
     ]
    }
   ],
   "source": [
    "# MB-SGD with batch size b=64\n",
    "lam = 1E-6 # do not change\n",
    "b = 64 # do not change\n",
    "stepsize = 0.5 # you must tune this parameter\n",
    "\n",
    "w, objvals_mbsgd64 = mb_sgd(x_train, y_train, lam, b, stepsize)"
   ]
  },
  {
   "cell_type": "markdown",
   "metadata": {},
   "source": [
    "# 7. Plot and compare GD, SGD, and MB-SGD"
   ]
  },
  {
   "cell_type": "markdown",
   "metadata": {},
   "source": [
    "You are required to compare the following algorithms:\n",
    "\n",
    "- Gradient descent (GD)\n",
    "\n",
    "- SGD\n",
    "\n",
    "- MB-SGD with b=8\n",
    "\n",
    "- MB-SGD with b=64\n",
    "\n",
    "Follow the code in Section 4 to plot ```objective function value``` against ```epochs```. There should be four curves in the plot; each curve corresponds to one algorithm."
   ]
  },
  {
   "cell_type": "markdown",
   "metadata": {},
   "source": [
    "Hint: Logistic regression with $\\ell_2$-norm regularization is a strongly convex optimization problem. All the algorithms will converge to the same solution. **In the end, the ``objective function value`` of the 4 algorithms will be the same. If not the same, your implementation must be wrong. Do NOT submit wrong code and wrong result!**"
   ]
  },
  {
   "cell_type": "code",
   "execution_count": 21,
   "metadata": {},
   "outputs": [
    {
     "name": "stderr",
     "output_type": "stream",
     "text": [
      "<ipython-input-21-49e099489796>:7: MatplotlibDeprecationWarning: Case-insensitive properties were deprecated in 3.3 and support will be removed two minor releases later\n",
      "  line0, = plt.plot(epochs_gd, objvals_gd, '--b', LineWidth=4)\n",
      "<ipython-input-21-49e099489796>:8: MatplotlibDeprecationWarning: Case-insensitive properties were deprecated in 3.3 and support will be removed two minor releases later\n",
      "  line1, = plt.plot(epochs_sgd, objvals_sgd, '-r', LineWidth=2)\n",
      "<ipython-input-21-49e099489796>:9: MatplotlibDeprecationWarning: Case-insensitive properties were deprecated in 3.3 and support will be removed two minor releases later\n",
      "  line2, = plt.plot(epochs_sgd, objvals_mbsgd8, '-g', LineWidth=2)\n",
      "<ipython-input-21-49e099489796>:10: MatplotlibDeprecationWarning: Case-insensitive properties were deprecated in 3.3 and support will be removed two minor releases later\n",
      "  line3, = plt.plot(epochs_sgd, objvals_mbsgd64, '-y', LineWidth=2)\n",
      "<ipython-input-21-49e099489796>:12: MatplotlibDeprecationWarning: Case-insensitive properties were deprecated in 3.3 and support will be removed two minor releases later\n",
      "  plt.xlabel('Epochs', FontSize=20)\n",
      "<ipython-input-21-49e099489796>:13: MatplotlibDeprecationWarning: Case-insensitive properties were deprecated in 3.3 and support will be removed two minor releases later\n",
      "  plt.ylabel('Objective Value', FontSize=20)\n",
      "<ipython-input-21-49e099489796>:14: MatplotlibDeprecationWarning: Case-insensitive properties were deprecated in 3.3 and support will be removed two minor releases later\n",
      "  plt.xticks(FontSize=16)\n",
      "<ipython-input-21-49e099489796>:15: MatplotlibDeprecationWarning: Case-insensitive properties were deprecated in 3.3 and support will be removed two minor releases later\n",
      "  plt.yticks(FontSize=16)\n"
     ]
    },
    {
     "data": {
      "image/png": "[encoded data removed]",
      "text/plain": [
       "<Figure size 432x288 with 1 Axes>"
      ]
     },
     "metadata": {
      "needs_background": "light"
     },
     "output_type": "display_data"
    }
   ],
   "source": [
    "# plot the 4 curves:\n",
    "fig = plt.figure(figsize=(6, 4))\n",
    "\n",
    "epochs_gd = range(len(objvals_gd))\n",
    "epochs_sgd = range(len(objvals_sgd))\n",
    "\n",
    "line0, = plt.plot(epochs_gd, objvals_gd, '--b', LineWidth=4)\n",
    "line1, = plt.plot(epochs_sgd, objvals_sgd, '-r', LineWidth=2)\n",
    "line2, = plt.plot(epochs_sgd, objvals_mbsgd8, '-g', LineWidth=2)\n",
    "line3, = plt.plot(epochs_sgd, objvals_mbsgd64, '-y', LineWidth=2)\n",
    "\n",
    "plt.xlabel('Epochs', FontSize=20)\n",
    "plt.ylabel('Objective Value', FontSize=20)\n",
    "plt.xticks(FontSize=16)\n",
    "plt.yticks(FontSize=16)\n",
    "plt.legend([line0, line1, line2, line3], ['GD', 'SGD', 'MBSGD8', 'MBSGD64'], fontsize=20)\n",
    "plt.tight_layout()\n",
    "plt.show()\n",
    "fig.savefig('compare_gd_sgd_mbsgd8_mbsgd64.pdf', format='pdf', dpi=1200)"
   ]
  },
  {
   "cell_type": "code",
   "execution_count": null,
   "metadata": {},
   "outputs": [],
   "source": []
  }
 ],
 "metadata": {
  "kernelspec": {
   "display_name": "Python 3",
   "language": "python",
   "name": "python3"
  },
  "language_info": {
   "codemirror_mode": {
    "name": "ipython",
    "version": 3
   },
   "file_extension": ".py",
   "mimetype": "text/x-python",
   "name": "python",
   "nbconvert_exporter": "python",
   "pygments_lexer": "ipython3",
   "version": "3.8.5"
  }
 },
 "nbformat": 4,
 "nbformat_minor": 2
}
